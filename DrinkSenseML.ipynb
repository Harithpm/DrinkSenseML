{
 "cells": [
  {
   "cell_type": "code",
   "execution_count": 2,
   "metadata": {
    "colab": {
     "base_uri": "https://localhost:8080/"
    },
    "id": "9AIVZGtQz7g6",
    "outputId": "b4361f2b-b7ad-4116-e4d0-09bfb750c0d5"
   },
   "outputs": [
    {
     "name": "stdout",
     "output_type": "stream",
     "text": [
      "\r",
      "0% [Working]\r",
      "            \r",
      "Get:1 http://security.ubuntu.com/ubuntu jammy-security InRelease [110 kB]\n",
      "\r",
      "0% [Connecting to archive.ubuntu.com (185.125.190.36)] [1 InRelease 12.3 kB/110 kB 11%] [Connected t\r",
      "0% [Connecting to archive.ubuntu.com (185.125.190.36)] [Connected to cloud.r-project.org (52.85.151.\r",
      "                                                                                                    \r",
      "Get:2 https://cloud.r-project.org/bin/linux/ubuntu jammy-cran40/ InRelease [3,626 B]\n",
      "\r",
      "0% [Waiting for headers] [Connected to ppa.launchpadcontent.net (185.125.190.80)] [Waiting for heade\r",
      "                                                                                                    \r",
      "Get:3 https://developer.download.nvidia.com/compute/cuda/repos/ubuntu2204/x86_64  InRelease [1,581 B]\n",
      "\r",
      "0% [Waiting for headers] [Connected to ppa.launchpadcontent.net (185.125.190.80)] [3 InRelease 1,581\r",
      "                                                                                                    \r",
      "0% [Waiting for headers] [Connected to ppa.launchpadcontent.net (185.125.190.80)]\r",
      "                                                                                 \r",
      "Hit:4 http://archive.ubuntu.com/ubuntu jammy InRelease\n",
      "Get:5 http://archive.ubuntu.com/ubuntu jammy-updates InRelease [119 kB]\n",
      "Get:6 http://security.ubuntu.com/ubuntu jammy-security/main amd64 Packages [1,630 kB]\n",
      "Hit:7 https://ppa.launchpadcontent.net/c2d4u.team/c2d4u4.0+/ubuntu jammy InRelease\n",
      "Hit:8 https://ppa.launchpadcontent.net/deadsnakes/ppa/ubuntu jammy InRelease\n",
      "Hit:9 https://ppa.launchpadcontent.net/graphics-drivers/ppa/ubuntu jammy InRelease\n",
      "Hit:10 http://archive.ubuntu.com/ubuntu jammy-backports InRelease\n",
      "Get:11 https://developer.download.nvidia.com/compute/cuda/repos/ubuntu2204/x86_64  Packages [783 kB]\n",
      "Hit:12 https://ppa.launchpadcontent.net/ubuntugis/ppa/ubuntu jammy InRelease\n",
      "Get:13 http://archive.ubuntu.com/ubuntu jammy-updates/universe amd64 Packages [1,356 kB]\n",
      "Get:14 http://archive.ubuntu.com/ubuntu jammy-updates/restricted amd64 Packages [2,091 kB]\n",
      "Get:15 http://archive.ubuntu.com/ubuntu jammy-updates/main amd64 Packages [1,906 kB]\n",
      "Fetched 8,001 kB in 2s (3,681 kB/s)\n",
      "Reading package lists... Done\n",
      "Reading package lists... Done\n",
      "Building dependency tree... Done\n",
      "Reading state information... Done\n",
      "The following additional packages will be installed:\n",
      "  libxtst6 openjdk-8-jre-headless\n",
      "Suggested packages:\n",
      "  openjdk-8-demo openjdk-8-source libnss-mdns fonts-dejavu-extra fonts-nanum fonts-ipafont-gothic\n",
      "  fonts-ipafont-mincho fonts-wqy-microhei fonts-wqy-zenhei fonts-indic\n",
      "The following NEW packages will be installed:\n",
      "  libxtst6 openjdk-8-jdk-headless openjdk-8-jre-headless\n",
      "0 upgraded, 3 newly installed, 0 to remove and 53 not upgraded.\n",
      "Need to get 39.7 MB of archives.\n",
      "After this operation, 144 MB of additional disk space will be used.\n",
      "Get:1 http://archive.ubuntu.com/ubuntu jammy/main amd64 libxtst6 amd64 2:1.2.3-1build4 [13.4 kB]\n",
      "Get:2 http://archive.ubuntu.com/ubuntu jammy-updates/universe amd64 openjdk-8-jre-headless amd64 8u402-ga-2ubuntu1~22.04 [30.8 MB]\n",
      "Get:3 http://archive.ubuntu.com/ubuntu jammy-updates/universe amd64 openjdk-8-jdk-headless amd64 8u402-ga-2ubuntu1~22.04 [8,873 kB]\n",
      "Fetched 39.7 MB in 1s (69.8 MB/s)\n",
      "Selecting previously unselected package libxtst6:amd64.\n",
      "(Reading database ... 121753 files and directories currently installed.)\n",
      "Preparing to unpack .../libxtst6_2%3a1.2.3-1build4_amd64.deb ...\n",
      "Unpacking libxtst6:amd64 (2:1.2.3-1build4) ...\n",
      "Selecting previously unselected package openjdk-8-jre-headless:amd64.\n",
      "Preparing to unpack .../openjdk-8-jre-headless_8u402-ga-2ubuntu1~22.04_amd64.deb ...\n",
      "Unpacking openjdk-8-jre-headless:amd64 (8u402-ga-2ubuntu1~22.04) ...\n",
      "Selecting previously unselected package openjdk-8-jdk-headless:amd64.\n",
      "Preparing to unpack .../openjdk-8-jdk-headless_8u402-ga-2ubuntu1~22.04_amd64.deb ...\n",
      "Unpacking openjdk-8-jdk-headless:amd64 (8u402-ga-2ubuntu1~22.04) ...\n",
      "Setting up libxtst6:amd64 (2:1.2.3-1build4) ...\n",
      "Setting up openjdk-8-jre-headless:amd64 (8u402-ga-2ubuntu1~22.04) ...\n",
      "update-alternatives: using /usr/lib/jvm/java-8-openjdk-amd64/jre/bin/orbd to provide /usr/bin/orbd (orbd) in auto mode\n",
      "update-alternatives: using /usr/lib/jvm/java-8-openjdk-amd64/jre/bin/servertool to provide /usr/bin/servertool (servertool) in auto mode\n",
      "update-alternatives: using /usr/lib/jvm/java-8-openjdk-amd64/jre/bin/tnameserv to provide /usr/bin/tnameserv (tnameserv) in auto mode\n",
      "Setting up openjdk-8-jdk-headless:amd64 (8u402-ga-2ubuntu1~22.04) ...\n",
      "update-alternatives: using /usr/lib/jvm/java-8-openjdk-amd64/bin/clhsdb to provide /usr/bin/clhsdb (clhsdb) in auto mode\n",
      "update-alternatives: using /usr/lib/jvm/java-8-openjdk-amd64/bin/extcheck to provide /usr/bin/extcheck (extcheck) in auto mode\n",
      "update-alternatives: using /usr/lib/jvm/java-8-openjdk-amd64/bin/hsdb to provide /usr/bin/hsdb (hsdb) in auto mode\n",
      "update-alternatives: using /usr/lib/jvm/java-8-openjdk-amd64/bin/idlj to provide /usr/bin/idlj (idlj) in auto mode\n",
      "update-alternatives: using /usr/lib/jvm/java-8-openjdk-amd64/bin/javah to provide /usr/bin/javah (javah) in auto mode\n",
      "update-alternatives: using /usr/lib/jvm/java-8-openjdk-amd64/bin/jhat to provide /usr/bin/jhat (jhat) in auto mode\n",
      "update-alternatives: using /usr/lib/jvm/java-8-openjdk-amd64/bin/jsadebugd to provide /usr/bin/jsadebugd (jsadebugd) in auto mode\n",
      "update-alternatives: using /usr/lib/jvm/java-8-openjdk-amd64/bin/native2ascii to provide /usr/bin/native2ascii (native2ascii) in auto mode\n",
      "update-alternatives: using /usr/lib/jvm/java-8-openjdk-amd64/bin/schemagen to provide /usr/bin/schemagen (schemagen) in auto mode\n",
      "update-alternatives: using /usr/lib/jvm/java-8-openjdk-amd64/bin/wsgen to provide /usr/bin/wsgen (wsgen) in auto mode\n",
      "update-alternatives: using /usr/lib/jvm/java-8-openjdk-amd64/bin/wsimport to provide /usr/bin/wsimport (wsimport) in auto mode\n",
      "update-alternatives: using /usr/lib/jvm/java-8-openjdk-amd64/bin/xjc to provide /usr/bin/xjc (xjc) in auto mode\n",
      "Processing triggers for libc-bin (2.35-0ubuntu3.4) ...\n",
      "/sbin/ldconfig.real: /usr/local/lib/libtbbmalloc_proxy.so.2 is not a symbolic link\n",
      "\n",
      "/sbin/ldconfig.real: /usr/local/lib/libtbbbind_2_5.so.3 is not a symbolic link\n",
      "\n",
      "/sbin/ldconfig.real: /usr/local/lib/libtbb.so.12 is not a symbolic link\n",
      "\n",
      "/sbin/ldconfig.real: /usr/local/lib/libtbbmalloc.so.2 is not a symbolic link\n",
      "\n",
      "/sbin/ldconfig.real: /usr/local/lib/libtbbbind.so.3 is not a symbolic link\n",
      "\n",
      "/sbin/ldconfig.real: /usr/local/lib/libtbbbind_2_0.so.3 is not a symbolic link\n",
      "\n"
     ]
    }
   ],
   "source": [
    "!apt-get update && apt-get install -y openjdk-8-jdk-headless\n",
    "!wget -q https://archive.apache.org/dist/spark/spark-3.0.2/spark-3.0.2-bin-hadoop2.7.tgz  # Download Spark 3.0.2\n",
    "!tar xf spark-3.0.2-bin-hadoop2.7.tgz\n",
    "!echo 'export SPARK_HOME=\"/content/spark-3.0.2-bin-hadoop2.7\"' >> ~/.bashrc\n",
    "!source ~/.bashrc\n"
   ]
  },
  {
   "cell_type": "code",
   "execution_count": 3,
   "metadata": {
    "colab": {
     "base_uri": "https://localhost:8080/"
    },
    "id": "bR6Ttnhq5uKl",
    "outputId": "a7dcbba1-94a0-4b43-9b2b-ea74ce727f88"
   },
   "outputs": [
    {
     "name": "stdout",
     "output_type": "stream",
     "text": [
      "Collecting pyspark\n",
      "  Downloading pyspark-3.5.1.tar.gz (317.0 MB)\n",
      "\u001b[2K     \u001b[90m━━━━━━━━━━━━━━━━━━━━━━━━━━━━━━━━━━━━━━━━\u001b[0m \u001b[32m317.0/317.0 MB\u001b[0m \u001b[31m3.4 MB/s\u001b[0m eta \u001b[36m0:00:00\u001b[0m\n",
      "\u001b[?25h  Preparing metadata (setup.py) ... \u001b[?25l\u001b[?25hdone\n",
      "Requirement already satisfied: py4j==0.10.9.7 in /usr/local/lib/python3.10/dist-packages (from pyspark) (0.10.9.7)\n",
      "Building wheels for collected packages: pyspark\n",
      "  Building wheel for pyspark (setup.py) ... \u001b[?25l\u001b[?25hdone\n",
      "  Created wheel for pyspark: filename=pyspark-3.5.1-py2.py3-none-any.whl size=317488491 sha256=ff85c1396e16c6a1e4eb023df08d3815bf48cd868eb0c64c07d46adc6a0ef009\n",
      "  Stored in directory: /root/.cache/pip/wheels/80/1d/60/2c256ed38dddce2fdd93be545214a63e02fbd8d74fb0b7f3a6\n",
      "Successfully built pyspark\n",
      "Installing collected packages: pyspark\n",
      "Successfully installed pyspark-3.5.1\n"
     ]
    }
   ],
   "source": [
    "!pip install pyspark"
   ]
  },
  {
   "cell_type": "code",
   "execution_count": 4,
   "metadata": {
    "id": "xrsJlLVE5G7_"
   },
   "outputs": [],
   "source": [
    "# Import necessary libraries\n",
    "import pyspark\n",
    "from pyspark.sql import SparkSession\n",
    "from pyspark.sql.types import StructType, StructField, StringType, IntegerType\n",
    "from pyspark.ml.feature import StringIndexer\n",
    "from pyspark.ml.feature import VectorAssembler\n",
    "from pyspark.ml.classification import LogisticRegression\n",
    "from pyspark.ml.evaluation import MulticlassClassificationEvaluator"
   ]
  },
  {
   "cell_type": "code",
   "execution_count": 5,
   "metadata": {
    "id": "tapZbhDE595m"
   },
   "outputs": [],
   "source": [
    "# Create a SparkSession\n",
    "spark = SparkSession.builder.appName(\"SmokingDrinkingPySpark\").getOrCreate()\n"
   ]
  },
  {
   "cell_type": "code",
   "execution_count": 15,
   "metadata": {
    "id": "37MyNuMp6HtV"
   },
   "outputs": [],
   "source": [
    "#importing data set\n",
    "data = spark.read.csv(\"/content/smoking_driking_dataset_Ver01.csv\",inferSchema=True,header=True)\n"
   ]
  },
  {
   "cell_type": "code",
   "execution_count": 16,
   "metadata": {
    "colab": {
     "base_uri": "https://localhost:8080/"
    },
    "id": "OO2kxtdd9VZc",
    "outputId": "725fac47-00a3-4bfd-e4dd-4152374fc7af"
   },
   "outputs": [
    {
     "data": {
      "text/plain": [
       "{'sex': 0,\n",
       " 'age': 0,\n",
       " 'height': 0,\n",
       " 'weight': 0,\n",
       " 'waistline': 0,\n",
       " 'sight_left': 0,\n",
       " 'sight_right': 0,\n",
       " 'hear_left': 0,\n",
       " 'hear_right': 0,\n",
       " 'SBP': 0,\n",
       " 'DBP': 0,\n",
       " 'BLDS': 0,\n",
       " 'tot_chole': 0,\n",
       " 'HDL_chole': 0,\n",
       " 'LDL_chole': 0,\n",
       " 'triglyceride': 0,\n",
       " 'hemoglobin': 0,\n",
       " 'urine_protein': 0,\n",
       " 'serum_creatinine': 0,\n",
       " 'SGOT_AST': 0,\n",
       " 'SGOT_ALT': 0,\n",
       " 'gamma_GTP': 0,\n",
       " 'SMK_stat_type_cd': 0,\n",
       " 'DRK_YN': 0}"
      ]
     },
     "execution_count": 16,
     "metadata": {},
     "output_type": "execute_result"
    }
   ],
   "source": [
    "from pyspark.sql.functions import col\n",
    "\n",
    "# Calculate the sum of null values in each column\n",
    "null_counts = {col_name: data.filter(col(col_name).isNull()).count() for col_name in data.columns}\n",
    "\n",
    "# Display the result\n",
    "null_counts"
   ]
  },
  {
   "cell_type": "code",
   "execution_count": 18,
   "metadata": {
    "colab": {
     "base_uri": "https://localhost:8080/"
    },
    "id": "Vp82gBHpAorP",
    "outputId": "beeeacb6-6138-428d-b250-2bf6df21a561"
   },
   "outputs": [
    {
     "name": "stdout",
     "output_type": "stream",
     "text": [
      "+----+---+------+------+---------+----------+-----------+---------+----------+-----+----+-----+---------+---------+---------+------------+----------+-------------+----------------+--------+--------+---------+----------------+------+\n",
      "| sex|age|height|weight|waistline|sight_left|sight_right|hear_left|hear_right|  SBP| DBP| BLDS|tot_chole|HDL_chole|LDL_chole|triglyceride|hemoglobin|urine_protein|serum_creatinine|SGOT_AST|SGOT_ALT|gamma_GTP|SMK_stat_type_cd|DRK_YN|\n",
      "+----+---+------+------+---------+----------+-----------+---------+----------+-----+----+-----+---------+---------+---------+------------+----------+-------------+----------------+--------+--------+---------+----------------+------+\n",
      "|Male| 35|   170|    75|     90.0|       1.0|        1.0|      1.0|       1.0|120.0|80.0| 99.0|    193.0|     48.0|    126.0|        92.0|      17.1|          1.0|             1.0|    21.0|    35.0|     40.0|             1.0|     Y|\n",
      "|Male| 30|   180|    80|     89.0|       0.9|        1.2|      1.0|       1.0|130.0|82.0|106.0|    228.0|     55.0|    148.0|       121.0|      15.8|          1.0|             0.9|    20.0|    36.0|     27.0|             3.0|     N|\n",
      "|Male| 40|   165|    75|     91.0|       1.2|        1.5|      1.0|       1.0|120.0|70.0| 98.0|    136.0|     41.0|     74.0|       104.0|      15.8|          1.0|             0.9|    47.0|    32.0|     68.0|             1.0|     N|\n",
      "|Male| 50|   175|    80|     91.0|       1.5|        1.2|      1.0|       1.0|145.0|87.0| 95.0|    201.0|     76.0|    104.0|       106.0|      17.6|          1.0|             1.1|    29.0|    34.0|     18.0|             1.0|     N|\n",
      "|Male| 50|   165|    60|     80.0|       1.0|        1.2|      1.0|       1.0|138.0|82.0|101.0|    199.0|     61.0|    117.0|       104.0|      13.8|          1.0|             0.8|    19.0|    12.0|     25.0|             1.0|     N|\n",
      "+----+---+------+------+---------+----------+-----------+---------+----------+-----+----+-----+---------+---------+---------+------------+----------+-------------+----------------+--------+--------+---------+----------------+------+\n",
      "only showing top 5 rows\n",
      "\n",
      "root\n",
      " |-- sex: string (nullable = true)\n",
      " |-- age: integer (nullable = true)\n",
      " |-- height: integer (nullable = true)\n",
      " |-- weight: integer (nullable = true)\n",
      " |-- waistline: double (nullable = true)\n",
      " |-- sight_left: double (nullable = true)\n",
      " |-- sight_right: double (nullable = true)\n",
      " |-- hear_left: double (nullable = true)\n",
      " |-- hear_right: double (nullable = true)\n",
      " |-- SBP: double (nullable = true)\n",
      " |-- DBP: double (nullable = true)\n",
      " |-- BLDS: double (nullable = true)\n",
      " |-- tot_chole: double (nullable = true)\n",
      " |-- HDL_chole: double (nullable = true)\n",
      " |-- LDL_chole: double (nullable = true)\n",
      " |-- triglyceride: double (nullable = true)\n",
      " |-- hemoglobin: double (nullable = true)\n",
      " |-- urine_protein: double (nullable = true)\n",
      " |-- serum_creatinine: double (nullable = true)\n",
      " |-- SGOT_AST: double (nullable = true)\n",
      " |-- SGOT_ALT: double (nullable = true)\n",
      " |-- gamma_GTP: double (nullable = true)\n",
      " |-- SMK_stat_type_cd: double (nullable = true)\n",
      " |-- DRK_YN: string (nullable = true)\n",
      "\n"
     ]
    }
   ],
   "source": [
    "# Display initial DataFrame information\n",
    "data.show(5)\n",
    "data.printSchema()"
   ]
  },
  {
   "cell_type": "code",
   "execution_count": 19,
   "metadata": {
    "colab": {
     "base_uri": "https://localhost:8080/"
    },
    "id": "uqRV1P-pfQZr",
    "outputId": "59676513-f6e3-42dc-ed3f-11189a2ae101"
   },
   "outputs": [
    {
     "name": "stdout",
     "output_type": "stream",
     "text": [
      "Total number of rows in the DataFrame: 991346\n"
     ]
    }
   ],
   "source": [
    "total_rows = data.count()\n",
    "print(\"Total number of rows :\", total_rows)"
   ]
  },
  {
   "cell_type": "code",
   "execution_count": 20,
   "metadata": {
    "id": "QRmCqY2Y9RW1"
   },
   "outputs": [],
   "source": [
    "# Encode 'sex' column as numerical\n",
    "indexer = StringIndexer(inputCol=\"sex\", outputCol=\"sex_encoded\")\n",
    "data = indexer.fit(data).transform(data)"
   ]
  },
  {
   "cell_type": "code",
   "execution_count": 21,
   "metadata": {
    "id": "mCrfk4f2BacC"
   },
   "outputs": [],
   "source": [
    "# Encode '\"DRK_YN\"' column as numerical\n",
    "indexer = StringIndexer(inputCol=\"DRK_YN\", outputCol=\"DRK_YN_encoded\")\n",
    "data = indexer.fit(data).transform(data)"
   ]
  },
  {
   "cell_type": "code",
   "execution_count": null,
   "metadata": {
    "id": "MnvUzWlJTvd6"
   },
   "outputs": [],
   "source": [
    "data.printSchema()"
   ]
  },
  {
   "cell_type": "code",
   "execution_count": 22,
   "metadata": {
    "id": "uQwz9B9V9mzx"
   },
   "outputs": [],
   "source": [
    "from pyspark.ml.feature import VectorAssembler\n",
    "\n",
    "assembler = VectorAssembler(inputCols=[\"age\", \"sex_encoded\",\"height\",\"weight\",\"waistline\",\"sight_left\",\"sight_right\",\"hear_left\",\"hear_right\",\"SBP\",\"DBP\",\"BLDS\",\"tot_chole\",\"HDL_chole\",\"LDL_chole\",\"triglyceride\",\"hemoglobin\",\"urine_protein\",\"serum_creatinine\",\"SGOT_AST\",\"SGOT_ALT\",\"gamma_GTP\",\"SMK_stat_type_cd\"], outputCol=\"features\")\n",
    "output = assembler.transform(data)\n"
   ]
  },
  {
   "cell_type": "code",
   "execution_count": 10,
   "metadata": {
    "colab": {
     "base_uri": "https://localhost:8080/"
    },
    "id": "9LLVn2eiIPNr",
    "outputId": "54032a28-198a-4518-e344-eeaaeb1026b6"
   },
   "outputs": [
    {
     "name": "stdout",
     "output_type": "stream",
     "text": [
      "+--------------------+\n",
      "|            features|\n",
      "+--------------------+\n",
      "|[35.0,0.0,170.0,7...|\n",
      "|[30.0,0.0,180.0,8...|\n",
      "|[40.0,0.0,165.0,7...|\n",
      "+--------------------+\n",
      "only showing top 3 rows\n",
      "\n"
     ]
    }
   ],
   "source": [
    "output.select(\"features\").show(3)"
   ]
  },
  {
   "cell_type": "code",
   "execution_count": 11,
   "metadata": {
    "colab": {
     "base_uri": "https://localhost:8080/"
    },
    "id": "7YYqWi9SULR5",
    "outputId": "e83fa42b-62c0-4131-a2fd-362ac082c6c1"
   },
   "outputs": [
    {
     "name": "stdout",
     "output_type": "stream",
     "text": [
      "+----+---+------+------+---------+----------+-----------+---------+----------+-----+----+-----+---------+---------+---------+------------+----------+-------------+----------------+--------+--------+---------+----------------+------+-----------+--------------+--------------------+\n",
      "| sex|age|height|weight|waistline|sight_left|sight_right|hear_left|hear_right|  SBP| DBP| BLDS|tot_chole|HDL_chole|LDL_chole|triglyceride|hemoglobin|urine_protein|serum_creatinine|SGOT_AST|SGOT_ALT|gamma_GTP|SMK_stat_type_cd|DRK_YN|sex_encoded|DRK_YN_encoded|            features|\n",
      "+----+---+------+------+---------+----------+-----------+---------+----------+-----+----+-----+---------+---------+---------+------------+----------+-------------+----------------+--------+--------+---------+----------------+------+-----------+--------------+--------------------+\n",
      "|Male| 35|   170|    75|     90.0|       1.0|        1.0|      1.0|       1.0|120.0|80.0| 99.0|    193.0|     48.0|    126.0|        92.0|      17.1|          1.0|             1.0|    21.0|    35.0|     40.0|             1.0|     Y|        0.0|           1.0|[35.0,0.0,170.0,7...|\n",
      "|Male| 30|   180|    80|     89.0|       0.9|        1.2|      1.0|       1.0|130.0|82.0|106.0|    228.0|     55.0|    148.0|       121.0|      15.8|          1.0|             0.9|    20.0|    36.0|     27.0|             3.0|     N|        0.0|           0.0|[30.0,0.0,180.0,8...|\n",
      "|Male| 40|   165|    75|     91.0|       1.2|        1.5|      1.0|       1.0|120.0|70.0| 98.0|    136.0|     41.0|     74.0|       104.0|      15.8|          1.0|             0.9|    47.0|    32.0|     68.0|             1.0|     N|        0.0|           0.0|[40.0,0.0,165.0,7...|\n",
      "+----+---+------+------+---------+----------+-----------+---------+----------+-----+----+-----+---------+---------+---------+------------+----------+-------------+----------------+--------+--------+---------+----------------+------+-----------+--------------+--------------------+\n",
      "only showing top 3 rows\n",
      "\n"
     ]
    }
   ],
   "source": [
    "output.show(3)"
   ]
  },
  {
   "cell_type": "code",
   "execution_count": 23,
   "metadata": {
    "id": "BFk86KwGVj4p"
   },
   "outputs": [],
   "source": [
    "data_final=output.select(\"features\",\"DRK_YN_encoded\")"
   ]
  },
  {
   "cell_type": "code",
   "execution_count": 24,
   "metadata": {
    "colab": {
     "base_uri": "https://localhost:8080/"
    },
    "id": "41viy6x7WFKB",
    "outputId": "5256a2df-ae9f-4c1d-c1b0-4bba2e34bf08"
   },
   "outputs": [
    {
     "name": "stdout",
     "output_type": "stream",
     "text": [
      "root\n",
      " |-- features: vector (nullable = true)\n",
      " |-- DRK_YN_encoded: double (nullable = false)\n",
      "\n"
     ]
    }
   ],
   "source": [
    "data_final.printSchema()"
   ]
  },
  {
   "cell_type": "code",
   "execution_count": 14,
   "metadata": {
    "colab": {
     "base_uri": "https://localhost:8080/"
    },
    "id": "TIUFEyQcWcP3",
    "outputId": "45fa684d-e8d9-4b0b-a9e4-56aebf08a9dc"
   },
   "outputs": [
    {
     "name": "stdout",
     "output_type": "stream",
     "text": [
      "+--------------------+--------------+\n",
      "|            features|DRK_YN_encoded|\n",
      "+--------------------+--------------+\n",
      "|[35.0,0.0,170.0,7...|           1.0|\n",
      "|[30.0,0.0,180.0,8...|           0.0|\n",
      "|[40.0,0.0,165.0,7...|           0.0|\n",
      "+--------------------+--------------+\n",
      "only showing top 3 rows\n",
      "\n"
     ]
    }
   ],
   "source": [
    "data_final.show(3)"
   ]
  },
  {
   "cell_type": "code",
   "execution_count": 25,
   "metadata": {
    "id": "7mkXTiZ39Y7M"
   },
   "outputs": [],
   "source": [
    "# split between training/test as a list.\n",
    "train_data,test_data = data_final.randomSplit([0.7,0.3],seed=42)"
   ]
  },
  {
   "cell_type": "code",
   "execution_count": 26,
   "metadata": {
    "id": "dzZuRQdC8hFH"
   },
   "outputs": [],
   "source": [
    "#logistic Regression\n",
    "from pyspark.ml.classification import LogisticRegression #Importing logistic regression library\n",
    "lr = LogisticRegression(labelCol='DRK_YN_encoded')\n"
   ]
  },
  {
   "cell_type": "code",
   "execution_count": 27,
   "metadata": {
    "id": "vZplE3tq-0PU"
   },
   "outputs": [],
   "source": [
    "# Fit the model to the data and call this model lrModel\n",
    "lrModel = lr.fit(train_data)"
   ]
  },
  {
   "cell_type": "code",
   "execution_count": 40,
   "metadata": {
    "colab": {
     "base_uri": "https://localhost:8080/"
    },
    "id": "O_U46VLsrlJ9",
    "outputId": "b2a8837e-994c-4b03-dcca-29dc5cb44a69"
   },
   "outputs": [
    {
     "data": {
      "text/plain": [
       "LogisticRegressionModel: uid=LogisticRegression_2befbee2f59d, numClasses=2, numFeatures=23"
      ]
     },
     "execution_count": 40,
     "metadata": {},
     "output_type": "execute_result"
    }
   ],
   "source": [
    "lrModel"
   ]
  },
  {
   "cell_type": "code",
   "execution_count": 28,
   "metadata": {
    "id": "xr6tjI4l-bNp"
   },
   "outputs": [],
   "source": [
    "#To find the summary\n",
    "lrMdel_summary=lrModel.summary"
   ]
  },
  {
   "cell_type": "code",
   "execution_count": 30,
   "metadata": {
    "colab": {
     "base_uri": "https://localhost:8080/"
    },
    "id": "SlpGz3dIZ6j3",
    "outputId": "a6ae419f-c172-4958-bece-5f45fce6e09f"
   },
   "outputs": [
    {
     "name": "stdout",
     "output_type": "stream",
     "text": [
      "+--------------------+--------------+--------------------+--------------------+----------+\n",
      "|            features|DRK_YN_encoded|       rawPrediction|         probability|prediction|\n",
      "+--------------------+--------------+--------------------+--------------------+----------+\n",
      "|[20.0,0.0,150.0,5...|           0.0|[-0.6492981535855...|[0.34314771423616...|       1.0|\n",
      "|[20.0,0.0,150.0,5...|           1.0|[-1.2118971427757...|[0.22936554554420...|       1.0|\n",
      "|[20.0,0.0,155.0,4...|           0.0|[-1.4646261309596...|[0.18776079005811...|       1.0|\n",
      "|[20.0,0.0,155.0,4...|           0.0|[-0.6431523209590...|[0.34453430097636...|       1.0|\n",
      "|[20.0,0.0,155.0,4...|           0.0|[-1.5035639198661...|[0.18189457929314...|       1.0|\n",
      "|[20.0,0.0,155.0,4...|           0.0|[-0.6419866740325...|[0.34479758718960...|       1.0|\n",
      "|[20.0,0.0,155.0,5...|           0.0|[-1.0770901719982...|[0.25405706945395...|       1.0|\n",
      "|[20.0,0.0,155.0,5...|           1.0|[-1.4536852248344...|[0.18943505416737...|       1.0|\n",
      "|[20.0,0.0,155.0,5...|           0.0|[-0.6445562918220...|[0.34421731089298...|       1.0|\n",
      "|[20.0,0.0,155.0,5...|           0.0|[-0.6596172657645...|[0.34082559272546...|       1.0|\n",
      "|[20.0,0.0,155.0,5...|           1.0|[-1.0428670835212...|[0.26059716717226...|       1.0|\n",
      "|[20.0,0.0,155.0,5...|           0.0|[-2.2888898002989...|[0.09204729240060...|       1.0|\n",
      "|[20.0,0.0,155.0,5...|           1.0|[-1.8854134499456...|[0.13176830999572...|       1.0|\n",
      "|[20.0,0.0,155.0,5...|           0.0|[-0.2566687117021...|[0.43618278825646...|       1.0|\n",
      "|[20.0,0.0,155.0,5...|           1.0|[-0.7070253334397...|[0.33025646561782...|       1.0|\n",
      "|[20.0,0.0,155.0,5...|           1.0|[0.62876832630292...|[0.65221013149357...|       0.0|\n",
      "|[20.0,0.0,155.0,5...|           1.0|[-1.4723651910695...|[0.18658338273548...|       1.0|\n",
      "|[20.0,0.0,155.0,5...|           1.0|[-1.6286729076128...|[0.16401224068977...|       1.0|\n",
      "|[20.0,0.0,155.0,6...|           0.0|[-0.3308280438698...|[0.41803916097977...|       1.0|\n",
      "|[20.0,0.0,155.0,6...|           0.0|[-1.3162779026672...|[0.21143822002830...|       1.0|\n",
      "+--------------------+--------------+--------------------+--------------------+----------+\n",
      "only showing top 20 rows\n",
      "\n"
     ]
    }
   ],
   "source": [
    "#pedicting the model\n",
    "lrModel.summary.predictions.show()"
   ]
  },
  {
   "cell_type": "code",
   "execution_count": 31,
   "metadata": {
    "colab": {
     "base_uri": "https://localhost:8080/"
    },
    "id": "ioD6UYSpFlrP",
    "outputId": "a2eb90a8-f0c1-494d-f82b-af374b9df80f"
   },
   "outputs": [
    {
     "name": "stdout",
     "output_type": "stream",
     "text": [
      "+-------+------------------+-------------------+\n",
      "|summary|    DRK_YN_encoded|         prediction|\n",
      "+-------+------------------+-------------------+\n",
      "|  count|            693953|             693953|\n",
      "|   mean|0.4993983742414832|0.49038191347252624|\n",
      "| stddev|0.4999999983013892| 0.4999078440409893|\n",
      "|    min|               0.0|                0.0|\n",
      "|    max|               1.0|                1.0|\n",
      "+-------+------------------+-------------------+\n",
      "\n"
     ]
    }
   ],
   "source": [
    "lrModel.summary.predictions.describe().show()"
   ]
  },
  {
   "cell_type": "code",
   "execution_count": 32,
   "metadata": {
    "id": "1mZGZl35dF9F"
   },
   "outputs": [],
   "source": [
    "pred_labels=lrModel.evaluate(test_data)"
   ]
  },
  {
   "cell_type": "code",
   "execution_count": 35,
   "metadata": {
    "id": "5cfabkq40psh"
   },
   "outputs": [],
   "source": [
    "predictions_df = pred_labels.predictions"
   ]
  },
  {
   "cell_type": "code",
   "execution_count": 36,
   "metadata": {
    "colab": {
     "base_uri": "https://localhost:8080/"
    },
    "id": "hugzC2UQdX_F",
    "outputId": "7aed2971-28f3-4fec-d701-e0dc5b61d48c"
   },
   "outputs": [
    {
     "name": "stdout",
     "output_type": "stream",
     "text": [
      "+--------------------+--------------+--------------------+--------------------+----------+\n",
      "|            features|DRK_YN_encoded|       rawPrediction|         probability|prediction|\n",
      "+--------------------+--------------+--------------------+--------------------+----------+\n",
      "|[20.0,0.0,155.0,4...|           0.0|[-1.2766069483337...|[0.21812834953967...|       1.0|\n",
      "|[20.0,0.0,155.0,4...|           0.0|[-0.8790742662819...|[0.29336965039948...|       1.0|\n",
      "|[20.0,0.0,155.0,5...|           0.0|[-0.6709745896188...|[0.33827864823754...|       1.0|\n",
      "|[20.0,0.0,155.0,5...|           1.0|[-0.8437427251873...|[0.30074710881964...|       1.0|\n",
      "|[20.0,0.0,155.0,5...|           1.0|[-1.0704186641727...|[0.25532347397700...|       1.0|\n",
      "|[20.0,0.0,155.0,5...|           0.0|[-1.3477603973051...|[0.20623676063234...|       1.0|\n",
      "|[20.0,0.0,155.0,5...|           0.0|[-0.6175524611035...|[0.35033831039634...|       1.0|\n",
      "|[20.0,0.0,155.0,5...|           1.0|[-1.8354683964431...|[0.13758811935500...|       1.0|\n",
      "|[20.0,0.0,155.0,5...|           0.0|[-0.8583694075730...|[0.29768013568562...|       1.0|\n",
      "|[20.0,0.0,155.0,5...|           1.0|[-0.8758246046016...|[0.29404376999875...|       1.0|\n",
      "|[20.0,0.0,155.0,5...|           1.0|[-1.6927438218762...|[0.15541534156915...|       1.0|\n",
      "|[20.0,0.0,155.0,5...|           0.0|[-0.8844306741974...|[0.29226047643772...|       1.0|\n",
      "|[20.0,0.0,155.0,5...|           0.0|[-1.1716586778929...|[0.23655530131921...|       1.0|\n",
      "|[20.0,0.0,155.0,5...|           1.0|[-2.1650951124657...|[0.10292904330874...|       1.0|\n",
      "|[20.0,0.0,155.0,6...|           0.0|[-1.0061009121322...|[0.26774360148494...|       1.0|\n",
      "|[20.0,0.0,155.0,6...|           0.0|[0.11085745848339...|[0.52768601677055...|       0.0|\n",
      "|[20.0,0.0,155.0,6...|           0.0|[-0.9799635110242...|[0.27289902392924...|       1.0|\n",
      "|[20.0,0.0,155.0,6...|           0.0|[-0.5853199584947...|[0.35770939214971...|       1.0|\n",
      "|[20.0,0.0,155.0,6...|           0.0|[-0.7407383216130...|[0.32284271425591...|       1.0|\n",
      "|[20.0,0.0,160.0,4...|           0.0|[-1.1852600805834...|[0.23410773816738...|       1.0|\n",
      "+--------------------+--------------+--------------------+--------------------+----------+\n",
      "only showing top 20 rows\n",
      "\n"
     ]
    }
   ],
   "source": [
    "predictions_df.show()"
   ]
  },
  {
   "cell_type": "code",
   "execution_count": 39,
   "metadata": {
    "colab": {
     "base_uri": "https://localhost:8080/"
    },
    "id": "57fXqd9bJonA",
    "outputId": "8583ec95-e29c-451c-eb3c-175e3a51a711"
   },
   "outputs": [
    {
     "name": "stdout",
     "output_type": "stream",
     "text": [
      "Area Under ROC Curve: 0.8028343733871144\n"
     ]
    }
   ],
   "source": [
    "prediction_lr=lrModel.transform(test_data)\n",
    "\n",
    "# Evaluate the model\n",
    "from pyspark.ml.evaluation import BinaryClassificationEvaluator\n",
    "evaluator_lr = BinaryClassificationEvaluator(rawPredictionCol=\"rawPrediction\", labelCol=\"DRK_YN_encoded\", metricName=\"areaUnderROC\")\n",
    "accuracy = evaluator_lr.evaluate(prediction_lr)\n",
    "print(\"Area Under ROC Curve:\", accuracy)"
   ]
  },
  {
   "cell_type": "code",
   "execution_count": 40,
   "metadata": {
    "colab": {
     "base_uri": "https://localhost:8080/"
    },
    "id": "FU_reWAuC7iR",
    "outputId": "01ebb16d-c35e-464f-a395-155f4efabf25"
   },
   "outputs": [
    {
     "name": "stdout",
     "output_type": "stream",
     "text": [
      "+--------------------+--------------+--------------------+----------+\n",
      "|            features|DRK_YN_encoded|       rawPrediction|prediction|\n",
      "+--------------------+--------------+--------------------+----------+\n",
      "|[20.0,0.0,155.0,4...|           0.0|[-1.1689731530687...|       1.0|\n",
      "|[20.0,0.0,155.0,4...|           0.0|[-0.8026731961965...|       1.0|\n",
      "|[20.0,0.0,155.0,5...|           1.0|[-0.7623124921561...|       1.0|\n",
      "|[20.0,0.0,155.0,5...|           0.0|[-0.6661612364534...|       1.0|\n",
      "|[20.0,0.0,155.0,5...|           1.0|[-0.9770198443034...|       1.0|\n",
      "|[20.0,0.0,155.0,5...|           0.0|[-1.9240818755348...|       1.0|\n",
      "|[20.0,0.0,155.0,5...|           1.0|[-0.8154504417101...|       1.0|\n",
      "|[20.0,0.0,155.0,5...|           0.0|[-1.0699086225610...|       1.0|\n",
      "|[20.0,0.0,155.0,5...|           1.0|[-1.8465081659891...|       1.0|\n",
      "|[20.0,0.0,155.0,6...|           0.0|[-0.5230247496404...|       1.0|\n",
      "|[20.0,0.0,155.0,6...|           0.0|[-0.0569971791943...|       1.0|\n",
      "|[20.0,0.0,155.0,6...|           0.0|[-0.8675618731783...|       1.0|\n",
      "|[20.0,0.0,155.0,6...|           0.0|[-1.6987162621620...|       1.0|\n",
      "|[20.0,0.0,155.0,6...|           0.0|[-2.0998400476130...|       1.0|\n",
      "|[20.0,0.0,160.0,4...|           0.0|[-1.3310443282224...|       1.0|\n",
      "|[20.0,0.0,160.0,4...|           0.0|[-1.8393087858190...|       1.0|\n",
      "|[20.0,0.0,160.0,5...|           1.0|[-1.5014316752776...|       1.0|\n",
      "|[20.0,0.0,160.0,5...|           0.0|[-1.2167577559723...|       1.0|\n",
      "|[20.0,0.0,160.0,5...|           1.0|[-1.0011460542502...|       1.0|\n",
      "|[20.0,0.0,160.0,5...|           1.0|[-1.3703483308194...|       1.0|\n",
      "+--------------------+--------------+--------------------+----------+\n",
      "only showing top 20 rows\n",
      "\n",
      "Area Under ROC Curve: 0.7992606820417054\n"
     ]
    }
   ],
   "source": [
    "#Support vector machine\n",
    "\n",
    "(train_data2, test_data2) = data_final.randomSplit([0.7, 0.3], seed=123)\n",
    "from pyspark.ml.classification import LinearSVC\n",
    "# Create an SVM model\n",
    "svm = LinearSVC(labelCol='DRK_YN_encoded',featuresCol='features')\n",
    "# Train the SVM model\n",
    "svm_model = svm.fit(train_data2)\n",
    "\n",
    "# Make predictions\n",
    "predictions = svm_model.transform(test_data2)\n",
    "pred_labels2=svm_model.evaluate(test_data2)\n",
    "predictions_df2 = pred_labels2.predictions\n",
    "predictions_df2.show()\n",
    "\n",
    "\n",
    "# Evaluate the model\n",
    "evaluator_svm = BinaryClassificationEvaluator(rawPredictionCol=\"rawPrediction\", labelCol=\"DRK_YN_encoded\", metricName=\"areaUnderROC\")\n",
    "accuracy = evaluator_svm.evaluate(predictions)\n",
    "print(\"Area Under ROC Curve:\", accuracy)\n"
   ]
  }
 ],
 "metadata": {
  "colab": {
   "provenance": []
  },
  "kernelspec": {
   "display_name": "Python 3 (ipykernel)",
   "language": "python",
   "name": "python3"
  },
  "language_info": {
   "codemirror_mode": {
    "name": "ipython",
    "version": 3
   },
   "file_extension": ".py",
   "mimetype": "text/x-python",
   "name": "python",
   "nbconvert_exporter": "python",
   "pygments_lexer": "ipython3",
   "version": "3.11.5"
  }
 },
 "nbformat": 4,
 "nbformat_minor": 1
}
